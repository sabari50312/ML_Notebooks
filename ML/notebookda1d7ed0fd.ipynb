{
 "cells": [
  {
   "cell_type": "markdown",
   "id": "5a03d2bb",
   "metadata": {
    "papermill": {
     "duration": 0.010714,
     "end_time": "2022-04-11T15:18:15.720679",
     "exception": false,
     "start_time": "2022-04-11T15:18:15.709965",
     "status": "completed"
    },
    "tags": []
   },
   "source": [
    "# Multiple Linear Regression Model to predict used cars selling price"
   ]
  },
  {
   "cell_type": "markdown",
   "id": "16234bcc",
   "metadata": {
    "papermill": {
     "duration": 0.008018,
     "end_time": "2022-04-11T15:18:15.737388",
     "exception": false,
     "start_time": "2022-04-11T15:18:15.729370",
     "status": "completed"
    },
    "tags": []
   },
   "source": [
    "**Import necessary modules:**"
   ]
  },
  {
   "cell_type": "code",
   "execution_count": 1,
   "id": "f9f0dfed",
   "metadata": {
    "_cell_guid": "b1076dfc-b9ad-4769-8c92-a6c4dae69d19",
    "_uuid": "8f2839f25d086af736a60e9eeb907d3b93b6e0e5",
    "execution": {
     "iopub.execute_input": "2022-04-11T15:18:15.763493Z",
     "iopub.status.busy": "2022-04-11T15:18:15.762960Z",
     "iopub.status.idle": "2022-04-11T15:18:16.785477Z",
     "shell.execute_reply": "2022-04-11T15:18:16.784757Z",
     "shell.execute_reply.started": "2022-04-11T15:16:44.208785Z"
    },
    "papermill": {
     "duration": 1.03994,
     "end_time": "2022-04-11T15:18:16.785625",
     "exception": false,
     "start_time": "2022-04-11T15:18:15.745685",
     "status": "completed"
    },
    "tags": []
   },
   "outputs": [
    {
     "name": "stdout",
     "output_type": "stream",
     "text": [
      "/kaggle/input/vehicle-dataset-from-cardekho/car data.csv\n",
      "/kaggle/input/vehicle-dataset-from-cardekho/CAR DETAILS FROM CAR DEKHO.csv\n",
      "/kaggle/input/vehicle-dataset-from-cardekho/Car details v3.csv\n"
     ]
    }
   ],
   "source": [
    "import numpy as np # linear algebra\n",
    "import pandas as pd # data processing, CSV file I/O (e.g. pd.read_csv)\n",
    "from sklearn.linear_model import LinearRegression #LinearRegression Model\n",
    "from sklearn.model_selection import train_test_split #TrainTest split function\n",
    "from sklearn.metrics import mean_squared_error,r2_score\n",
    "\n",
    "import os\n",
    "for dirname, _, filenames in os.walk('/kaggle/input'):\n",
    "    for filename in filenames:\n",
    "        print(os.path.join(dirname, filename))\n"
   ]
  },
  {
   "cell_type": "markdown",
   "id": "df9926c0",
   "metadata": {
    "papermill": {
     "duration": 0.008732,
     "end_time": "2022-04-11T15:18:16.803703",
     "exception": false,
     "start_time": "2022-04-11T15:18:16.794971",
     "status": "completed"
    },
    "tags": []
   },
   "source": [
    "  **Load the CSV dataset into a dataframe:**"
   ]
  },
  {
   "cell_type": "code",
   "execution_count": 2,
   "id": "4a3111e4",
   "metadata": {
    "execution": {
     "iopub.execute_input": "2022-04-11T15:18:16.824179Z",
     "iopub.status.busy": "2022-04-11T15:18:16.823631Z",
     "iopub.status.idle": "2022-04-11T15:18:16.837822Z",
     "shell.execute_reply": "2022-04-11T15:18:16.838276Z",
     "shell.execute_reply.started": "2022-04-11T15:16:45.430012Z"
    },
    "papermill": {
     "duration": 0.025732,
     "end_time": "2022-04-11T15:18:16.838402",
     "exception": false,
     "start_time": "2022-04-11T15:18:16.812670",
     "status": "completed"
    },
    "tags": []
   },
   "outputs": [],
   "source": [
    "df=pd.read_csv('../input/vehicle-dataset-from-cardekho/car data.csv') #Import the dataset\n",
    "#df.head() #Print first 5 rows"
   ]
  },
  {
   "cell_type": "markdown",
   "id": "65b58f83",
   "metadata": {
    "papermill": {
     "duration": 0.009405,
     "end_time": "2022-04-11T15:18:16.856389",
     "exception": false,
     "start_time": "2022-04-11T15:18:16.846984",
     "status": "completed"
    },
    "tags": []
   },
   "source": [
    "**Clean and set the dataset into Test and Training sets:**"
   ]
  },
  {
   "cell_type": "code",
   "execution_count": 3,
   "id": "098d81ad",
   "metadata": {
    "execution": {
     "iopub.execute_input": "2022-04-11T15:18:16.885673Z",
     "iopub.status.busy": "2022-04-11T15:18:16.883661Z",
     "iopub.status.idle": "2022-04-11T15:18:16.903508Z",
     "shell.execute_reply": "2022-04-11T15:18:16.903981Z",
     "shell.execute_reply.started": "2022-04-11T15:16:45.451461Z"
    },
    "papermill": {
     "duration": 0.037333,
     "end_time": "2022-04-11T15:18:16.904124",
     "exception": false,
     "start_time": "2022-04-11T15:18:16.866791",
     "status": "completed"
    },
    "tags": []
   },
   "outputs": [],
   "source": [
    "x=df.drop(['Selling_Price'],axis=1)  #X axis (Selling_Price is the criteria to be predicted)\n",
    "x=pd.get_dummies(x) # OneHotEncode the strings\n",
    "y=df[['Selling_Price']] #y axis\n",
    "\n",
    "x_train, x_test, y_train, y_test= train_test_split(x,y,test_size=0.05, shuffle=False) #Split x and y in to test and train sets WITHOUT SHUFFLING"
   ]
  },
  {
   "cell_type": "markdown",
   "id": "1ece25ce",
   "metadata": {
    "papermill": {
     "duration": 0.008843,
     "end_time": "2022-04-11T15:18:16.921913",
     "exception": false,
     "start_time": "2022-04-11T15:18:16.913070",
     "status": "completed"
    },
    "tags": []
   },
   "source": [
    "**Create the LinearRegression model and train it:**"
   ]
  },
  {
   "cell_type": "code",
   "execution_count": 4,
   "id": "c3c0ae35",
   "metadata": {
    "execution": {
     "iopub.execute_input": "2022-04-11T15:18:16.941887Z",
     "iopub.status.busy": "2022-04-11T15:18:16.941346Z",
     "iopub.status.idle": "2022-04-11T15:18:16.972757Z",
     "shell.execute_reply": "2022-04-11T15:18:16.973576Z",
     "shell.execute_reply.started": "2022-04-11T15:16:45.483767Z"
    },
    "papermill": {
     "duration": 0.043141,
     "end_time": "2022-04-11T15:18:16.973815",
     "exception": false,
     "start_time": "2022-04-11T15:18:16.930674",
     "status": "completed"
    },
    "tags": []
   },
   "outputs": [],
   "source": [
    "reg=LinearRegression() #Create the LinearRegression model\n",
    "reg.fit(x_train,y_train) #Train the model using the train sets\n",
    "y_pred=reg.predict(x_test) #Predict the output for test set "
   ]
  },
  {
   "cell_type": "markdown",
   "id": "0256267d",
   "metadata": {
    "papermill": {
     "duration": 0.016759,
     "end_time": "2022-04-11T15:18:17.007771",
     "exception": false,
     "start_time": "2022-04-11T15:18:16.991012",
     "status": "completed"
    },
    "tags": []
   },
   "source": [
    "**Plot the model results and show the accuracy:**"
   ]
  },
  {
   "cell_type": "code",
   "execution_count": 5,
   "id": "0d5c58f7",
   "metadata": {
    "execution": {
     "iopub.execute_input": "2022-04-11T15:18:17.050549Z",
     "iopub.status.busy": "2022-04-11T15:18:17.049554Z",
     "iopub.status.idle": "2022-04-11T15:18:17.249305Z",
     "shell.execute_reply": "2022-04-11T15:18:17.249929Z",
     "shell.execute_reply.started": "2022-04-11T15:17:09.473294Z"
    },
    "papermill": {
     "duration": 0.225897,
     "end_time": "2022-04-11T15:18:17.250143",
     "exception": false,
     "start_time": "2022-04-11T15:18:17.024246",
     "status": "completed"
    },
    "tags": []
   },
   "outputs": [
    {
     "data": {
      "image/png": "[encoded data removed]",
      "text/plain": [
       "<Figure size 432x288 with 1 Axes>"
      ]
     },
     "metadata": {
      "needs_background": "light"
     },
     "output_type": "display_data"
    },
    {
     "name": "stdout",
     "output_type": "stream",
     "text": [
      "r2 Sore is:  0.933564479  / 1\n"
     ]
    }
   ],
   "source": [
    "import matplotlib.pyplot as plt\n",
    "\n",
    "plt.plot(x_test['Present_Price'],y_test ,'o',color='black') #plot PresentPrice against SellingPrice actual\n",
    "plt.plot(x_test['Present_Price'],y_pred,'.',color=\"red\") #plot PresentPrice against SellingPrice predicted\n",
    "plt.show()\n",
    "\n",
    "print(\"r2 Sore is: \",r2_score(y_test,y_pred).round(9),\" / 1\") #r2_score, 1= perfect prediction\n",
    "\n"
   ]
  }
 ],
 "metadata": {
  "kernelspec": {
   "display_name": "Python 3",
   "language": "python",
   "name": "python3"
  },
  "language_info": {
   "codemirror_mode": {
    "name": "ipython",
    "version": 3
   },
   "file_extension": ".py",
   "mimetype": "text/x-python",
   "name": "python",
   "nbconvert_exporter": "python",
   "pygments_lexer": "ipython3",
   "version": "3.7.12"
  },
  "papermill": {
   "default_parameters": {},
   "duration": 10.219511,
   "end_time": "2022-04-11T15:18:17.769183",
   "environment_variables": {},
   "exception": null,
   "input_path": "__notebook__.ipynb",
   "output_path": "__notebook__.ipynb",
   "parameters": {},
   "start_time": "2022-04-11T15:18:07.549672",
   "version": "2.3.3"
  }
 },
 "nbformat": 4,
 "nbformat_minor": 5
}
